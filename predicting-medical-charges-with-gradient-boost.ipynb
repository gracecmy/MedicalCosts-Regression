{
 "cells": [
  {
   "cell_type": "markdown",
   "metadata": {
    "papermill": {
     "duration": 0.045603,
     "end_time": "2021-01-01T17:52:39.896559",
     "exception": false,
     "start_time": "2021-01-01T17:52:39.850956",
     "status": "completed"
    },
    "tags": []
   },
   "source": [
    "**Insurance companies can't predict the future, so how do they come up with such quote?**\n",
    "\n",
    "By understanding the relationship between the demographics of primary beneficiaries (age, sex, BMI, number of children, smoker and location) and their medical costs, insurance companies will then (i) compare you to their data, (ii) predict your medical costs, and (iii) calculate a corresponding insurance quote. \n",
    "\n",
    "Let's take a look at the first two steps (grouping you and predicting your medical costs) with the following example:"
   ]
  },
  {
   "cell_type": "code",
   "execution_count": 1,
   "metadata": {
    "_cell_guid": "b1076dfc-b9ad-4769-8c92-a6c4dae69d19",
    "_uuid": "8f2839f25d086af736a60e9eeb907d3b93b6e0e5",
    "execution": {
     "iopub.execute_input": "2021-01-01T17:52:39.993955Z",
     "iopub.status.busy": "2021-01-01T17:52:39.993191Z",
     "iopub.status.idle": "2021-01-01T17:52:41.253674Z",
     "shell.execute_reply": "2021-01-01T17:52:41.254351Z"
    },
    "papermill": {
     "duration": 1.312813,
     "end_time": "2021-01-01T17:52:41.254568",
     "exception": false,
     "start_time": "2021-01-01T17:52:39.941755",
     "status": "completed"
    },
    "tags": []
   },
   "outputs": [],
   "source": [
    "import numpy as np\n",
    "import pandas as pd\n",
    "import matplotlib.pyplot as plt\n",
    "import seaborn as sns\n",
    "import scipy.stats as stats\n",
    "%matplotlib inline\n",
    "params={\"figure.facecolor\":(0.0,0.0,0.0,0),\n",
    "        \"axes.facecolor\":(1.0,1.0,1.0,1.0),\n",
    "        \"savefig.facecolor\":(0.0,0.0,0.0,0)}\n",
    "plt.rcParams.update(params)"
   ]
  },
  {
   "cell_type": "code",
   "execution_count": 2,
   "metadata": {
    "_cell_guid": "79c7e3d0-c299-4dcb-8224-4455121ee9b0",
    "_uuid": "d629ff2d2480ee46fbb7e2d37f6b5fab8052498a",
    "execution": {
     "iopub.execute_input": "2021-01-01T17:52:41.352875Z",
     "iopub.status.busy": "2021-01-01T17:52:41.352146Z",
     "iopub.status.idle": "2021-01-01T17:52:41.401113Z",
     "shell.execute_reply": "2021-01-01T17:52:41.401662Z"
    },
    "papermill": {
     "duration": 0.097198,
     "end_time": "2021-01-01T17:52:41.401825",
     "exception": false,
     "start_time": "2021-01-01T17:52:41.304627",
     "status": "completed"
    },
    "tags": []
   },
   "outputs": [
    {
     "data": {
      "text/html": [
       "<div>\n",
       "<style scoped>\n",
       "    .dataframe tbody tr th:only-of-type {\n",
       "        vertical-align: middle;\n",
       "    }\n",
       "\n",
       "    .dataframe tbody tr th {\n",
       "        vertical-align: top;\n",
       "    }\n",
       "\n",
       "    .dataframe thead th {\n",
       "        text-align: right;\n",
       "    }\n",
       "</style>\n",
       "<table border=\"1\" class=\"dataframe\">\n",
       "  <thead>\n",
       "    <tr style=\"text-align: right;\">\n",
       "      <th></th>\n",
       "      <th>Age</th>\n",
       "      <th>Sex</th>\n",
       "      <th>BMI</th>\n",
       "      <th>Children</th>\n",
       "      <th>Smoker</th>\n",
       "      <th>Region</th>\n",
       "      <th>Charges</th>\n",
       "    </tr>\n",
       "  </thead>\n",
       "  <tbody>\n",
       "    <tr>\n",
       "      <th>0</th>\n",
       "      <td>19</td>\n",
       "      <td>female</td>\n",
       "      <td>27.900</td>\n",
       "      <td>0</td>\n",
       "      <td>yes</td>\n",
       "      <td>southwest</td>\n",
       "      <td>16884.92400</td>\n",
       "    </tr>\n",
       "    <tr>\n",
       "      <th>1</th>\n",
       "      <td>18</td>\n",
       "      <td>male</td>\n",
       "      <td>33.770</td>\n",
       "      <td>1</td>\n",
       "      <td>no</td>\n",
       "      <td>southeast</td>\n",
       "      <td>1725.55230</td>\n",
       "    </tr>\n",
       "    <tr>\n",
       "      <th>2</th>\n",
       "      <td>28</td>\n",
       "      <td>male</td>\n",
       "      <td>33.000</td>\n",
       "      <td>3</td>\n",
       "      <td>no</td>\n",
       "      <td>southeast</td>\n",
       "      <td>4449.46200</td>\n",
       "    </tr>\n",
       "    <tr>\n",
       "      <th>3</th>\n",
       "      <td>33</td>\n",
       "      <td>male</td>\n",
       "      <td>22.705</td>\n",
       "      <td>0</td>\n",
       "      <td>no</td>\n",
       "      <td>northwest</td>\n",
       "      <td>21984.47061</td>\n",
       "    </tr>\n",
       "    <tr>\n",
       "      <th>4</th>\n",
       "      <td>32</td>\n",
       "      <td>male</td>\n",
       "      <td>28.880</td>\n",
       "      <td>0</td>\n",
       "      <td>no</td>\n",
       "      <td>northwest</td>\n",
       "      <td>3866.85520</td>\n",
       "    </tr>\n",
       "  </tbody>\n",
       "</table>\n",
       "</div>"
      ],
      "text/plain": [
       "   Age     Sex     BMI  Children Smoker     Region      Charges\n",
       "0   19  female  27.900         0    yes  southwest  16884.92400\n",
       "1   18    male  33.770         1     no  southeast   1725.55230\n",
       "2   28    male  33.000         3     no  southeast   4449.46200\n",
       "3   33    male  22.705         0     no  northwest  21984.47061\n",
       "4   32    male  28.880         0     no  northwest   3866.85520"
      ]
     },
     "execution_count": 2,
     "metadata": {},
     "output_type": "execute_result"
    }
   ],
   "source": [
    "df=pd.read_csv(\"../input/insurance/insurance.csv\")\n",
    "df.columns=df.columns.to_series().apply(lambda x:x.title() if x!=\"bmi\" else x.upper())\n",
    "df.head()"
   ]
  },
  {
   "cell_type": "code",
   "execution_count": 3,
   "metadata": {
    "execution": {
     "iopub.execute_input": "2021-01-01T17:52:41.502158Z",
     "iopub.status.busy": "2021-01-01T17:52:41.501088Z",
     "iopub.status.idle": "2021-01-01T17:52:41.506459Z",
     "shell.execute_reply": "2021-01-01T17:52:41.505633Z"
    },
    "papermill": {
     "duration": 0.058757,
     "end_time": "2021-01-01T17:52:41.506582",
     "exception": false,
     "start_time": "2021-01-01T17:52:41.447825",
     "status": "completed"
    },
    "tags": []
   },
   "outputs": [
    {
     "data": {
      "text/plain": [
       "(1338, 7)"
      ]
     },
     "execution_count": 3,
     "metadata": {},
     "output_type": "execute_result"
    }
   ],
   "source": [
    "df.shape"
   ]
  },
  {
   "cell_type": "markdown",
   "metadata": {
    "papermill": {
     "duration": 0.045951,
     "end_time": "2021-01-01T17:52:41.600082",
     "exception": false,
     "start_time": "2021-01-01T17:52:41.554131",
     "status": "completed"
    },
    "tags": []
   },
   "source": [
    "The dataset has 1338 observations/individuals which can be described in the following seven features:\n",
    "\n",
    "* *Age*: the age of primary beneficiary\n",
    "\n",
    "* *Sex*: female or male\n",
    "\n",
    "* *BMI*: Body Mass Index (kg/m^2), a BMI between 18.5 kg/m^2 to 24.9 kg/m^2 indicates a healthy individual while anything less indicates underweight and more indicates overweight\n",
    "\n",
    "* *Children*: the number of children/dependents covered by insurance\n",
    "\n",
    "* *Smoker*: if the primary beneficiary smokes\n",
    "\n",
    "* *Region*: the beneficiary's residential area in the US (northeast, southeast, southwest, northwest)\n",
    "\n",
    "* *Charges*: medical costs billed by the insurance"
   ]
  },
  {
   "cell_type": "code",
   "execution_count": 4,
   "metadata": {
    "execution": {
     "iopub.execute_input": "2021-01-01T17:52:41.715569Z",
     "iopub.status.busy": "2021-01-01T17:52:41.714237Z",
     "iopub.status.idle": "2021-01-01T17:52:41.718783Z",
     "shell.execute_reply": "2021-01-01T17:52:41.719537Z"
    },
    "papermill": {
     "duration": 0.073866,
     "end_time": "2021-01-01T17:52:41.719714",
     "exception": false,
     "start_time": "2021-01-01T17:52:41.645848",
     "status": "completed"
    },
    "tags": []
   },
   "outputs": [
    {
     "name": "stdout",
     "output_type": "stream",
     "text": [
      "<class 'pandas.core.frame.DataFrame'>\n",
      "RangeIndex: 1338 entries, 0 to 1337\n",
      "Data columns (total 7 columns):\n",
      " #   Column    Non-Null Count  Dtype  \n",
      "---  ------    --------------  -----  \n",
      " 0   Age       1338 non-null   int64  \n",
      " 1   Sex       1338 non-null   object \n",
      " 2   BMI       1338 non-null   float64\n",
      " 3   Children  1338 non-null   int64  \n",
      " 4   Smoker    1338 non-null   object \n",
      " 5   Region    1338 non-null   object \n",
      " 6   Charges   1338 non-null   float64\n",
      "dtypes: float64(2), int64(2), object(3)\n",
      "memory usage: 73.3+ KB\n"
     ]
    }
   ],
   "source": [
    "df.info()"
   ]
  },
  {
   "cell_type": "markdown",
   "metadata": {
    "papermill": {
     "duration": 0.045846,
     "end_time": "2021-01-01T17:52:41.815132",
     "exception": false,
     "start_time": "2021-01-01T17:52:41.769286",
     "status": "completed"
    },
    "tags": []
   },
   "source": [
    "There are no null values, but there is a mixture of categorical and numerical features (the categorical features will later be changed into numerical format)."
   ]
  },
  {
   "cell_type": "markdown",
   "metadata": {
    "papermill": {
     "duration": 0.04881,
     "end_time": "2021-01-01T17:52:41.913354",
     "exception": false,
     "start_time": "2021-01-01T17:52:41.864544",
     "status": "completed"
    },
    "tags": []
   },
   "source": [
    "Let's further examine each feature:"
   ]
  },
  {
   "cell_type": "markdown",
   "metadata": {
    "papermill": {
     "duration": 0.046641,
     "end_time": "2021-01-01T17:52:42.008153",
     "exception": false,
     "start_time": "2021-01-01T17:52:41.961512",
     "status": "completed"
    },
    "tags": []
   },
   "source": [
    "#### *Age*"
   ]
  },
  {
   "cell_type": "code",
   "execution_count": 5,
   "metadata": {
    "execution": {
     "iopub.execute_input": "2021-01-01T17:52:42.115543Z",
     "iopub.status.busy": "2021-01-01T17:52:42.111574Z",
     "iopub.status.idle": "2021-01-01T17:52:42.492184Z",
     "shell.execute_reply": "2021-01-01T17:52:42.491224Z"
    },
    "papermill": {
     "duration": 0.436092,
     "end_time": "2021-01-01T17:52:42.492534",
     "exception": false,
     "start_time": "2021-01-01T17:52:42.056442",
     "status": "completed"
    },
    "tags": []
   },
   "outputs": [
    {
     "data": {
      "text/plain": [
       "<matplotlib.legend.Legend at 0x7fd4c16af290>"
      ]
     },
     "execution_count": 5,
     "metadata": {},
     "output_type": "execute_result"
    },
    {
     "data": {
      "image/png": "[encoded data removed]",
      "text/plain": [
       "<Figure size 432x288 with 1 Axes>"
      ]
     },
     "metadata": {
      "needs_background": "light"
     },
     "output_type": "display_data"
    }
   ],
   "source": [
    "sns.scatterplot(x=df[\"Age\"],y=df[\"Charges\"],hue=df[\"Smoker\"],palette={\"yes\":\"salmon\",\"no\":\"skyblue\"})\n",
    "plt.legend(bbox_to_anchor=(1,0.5),loc=6)"
   ]
  },
  {
   "cell_type": "markdown",
   "metadata": {
    "papermill": {
     "duration": 0.054298,
     "end_time": "2021-01-01T17:52:42.607356",
     "exception": false,
     "start_time": "2021-01-01T17:52:42.553058",
     "status": "completed"
    },
    "tags": []
   },
   "source": [
    "* There is a slight positive correlation between the age and charges.\n",
    "* The data can also be separated into three groupings (low, average and high charges) depending on if the individual was a smoker."
   ]
  },
  {
   "cell_type": "markdown",
   "metadata": {
    "papermill": {
     "duration": 0.067916,
     "end_time": "2021-01-01T17:52:42.724397",
     "exception": false,
     "start_time": "2021-01-01T17:52:42.656481",
     "status": "completed"
    },
    "tags": []
   },
   "source": [
    "#### *Sex*"
   ]
  },
  {
   "cell_type": "code",
   "execution_count": 6,
   "metadata": {
    "execution": {
     "iopub.execute_input": "2021-01-01T17:52:42.860882Z",
     "iopub.status.busy": "2021-01-01T17:52:42.859757Z",
     "iopub.status.idle": "2021-01-01T17:52:43.039193Z",
     "shell.execute_reply": "2021-01-01T17:52:43.040242Z"
    },
    "papermill": {
     "duration": 0.254049,
     "end_time": "2021-01-01T17:52:43.040529",
     "exception": false,
     "start_time": "2021-01-01T17:52:42.786480",
     "status": "completed"
    },
    "tags": []
   },
   "outputs": [
    {
     "data": {
      "text/plain": [
       "<matplotlib.axes._subplots.AxesSubplot at 0x7fd4c03daa10>"
      ]
     },
     "execution_count": 6,
     "metadata": {},
     "output_type": "execute_result"
    },
    {
     "data": {
      "image/png": "[encoded data removed]",
      "text/plain": [
       "<Figure size 432x288 with 1 Axes>"
      ]
     },
     "metadata": {
      "needs_background": "light"
     },
     "output_type": "display_data"
    }
   ],
   "source": [
    "sns.boxplot(x=df[\"Sex\"],y=df[\"Charges\"],palette={\"female\":\"lemonchiffon\",\"male\":\"lightgreen\"})"
   ]
  },
  {
   "cell_type": "markdown",
   "metadata": {
    "papermill": {
     "duration": 0.056741,
     "end_time": "2021-01-01T17:52:43.178527",
     "exception": false,
     "start_time": "2021-01-01T17:52:43.121786",
     "status": "completed"
    },
    "tags": []
   },
   "source": [
    "* Including the \"outliers\", both females and males have similar range.\n",
    "* Excluding the \"outliers\", males have higher charges."
   ]
  },
  {
   "cell_type": "markdown",
   "metadata": {
    "papermill": {
     "duration": 0.054573,
     "end_time": "2021-01-01T17:52:43.290523",
     "exception": false,
     "start_time": "2021-01-01T17:52:43.235950",
     "status": "completed"
    },
    "tags": []
   },
   "source": [
    "#### *BMI*"
   ]
  },
  {
   "cell_type": "code",
   "execution_count": 7,
   "metadata": {
    "execution": {
     "iopub.execute_input": "2021-01-01T17:52:43.403888Z",
     "iopub.status.busy": "2021-01-01T17:52:43.402806Z",
     "iopub.status.idle": "2021-01-01T17:52:43.698634Z",
     "shell.execute_reply": "2021-01-01T17:52:43.699259Z"
    },
    "papermill": {
     "duration": 0.354007,
     "end_time": "2021-01-01T17:52:43.699456",
     "exception": false,
     "start_time": "2021-01-01T17:52:43.345449",
     "status": "completed"
    },
    "tags": []
   },
   "outputs": [
    {
     "data": {
      "text/plain": [
       "<matplotlib.legend.Legend at 0x7fd4c02eed10>"
      ]
     },
     "execution_count": 7,
     "metadata": {},
     "output_type": "execute_result"
    },
    {
     "data": {
      "image/png": "[encoded data removed]",
      "text/plain": [
       "<Figure size 432x288 with 1 Axes>"
      ]
     },
     "metadata": {
      "needs_background": "light"
     },
     "output_type": "display_data"
    }
   ],
   "source": [
    "sns.scatterplot(x=df[\"BMI\"],y=df[\"Charges\"],hue=df[\"Smoker\"],palette={\"yes\":\"salmon\",\"no\":\"skyblue\"})\n",
    "plt.legend(bbox_to_anchor=(1,0.5),loc=6)"
   ]
  },
  {
   "cell_type": "markdown",
   "metadata": {
    "papermill": {
     "duration": 0.052385,
     "end_time": "2021-01-01T17:52:43.812632",
     "exception": false,
     "start_time": "2021-01-01T17:52:43.760247",
     "status": "completed"
    },
    "tags": []
   },
   "source": [
    "* Charges do not necessarily increase with BMI, it depends on if the individual smokes."
   ]
  },
  {
   "cell_type": "markdown",
   "metadata": {
    "papermill": {
     "duration": 0.0518,
     "end_time": "2021-01-01T17:52:43.916636",
     "exception": false,
     "start_time": "2021-01-01T17:52:43.864836",
     "status": "completed"
    },
    "tags": []
   },
   "source": [
    "#### Number of *Children*"
   ]
  },
  {
   "cell_type": "code",
   "execution_count": 8,
   "metadata": {
    "execution": {
     "iopub.execute_input": "2021-01-01T17:52:44.031495Z",
     "iopub.status.busy": "2021-01-01T17:52:44.030271Z",
     "iopub.status.idle": "2021-01-01T17:52:44.270149Z",
     "shell.execute_reply": "2021-01-01T17:52:44.270796Z"
    },
    "papermill": {
     "duration": 0.30018,
     "end_time": "2021-01-01T17:52:44.270961",
     "exception": false,
     "start_time": "2021-01-01T17:52:43.970781",
     "status": "completed"
    },
    "tags": []
   },
   "outputs": [
    {
     "data": {
      "text/plain": [
       "<matplotlib.axes._subplots.AxesSubplot at 0x7fd4c030ac10>"
      ]
     },
     "execution_count": 8,
     "metadata": {},
     "output_type": "execute_result"
    },
    {
     "data": {
      "image/png": "[encoded data removed]",
      "text/plain": [
       "<Figure size 432x288 with 1 Axes>"
      ]
     },
     "metadata": {
      "needs_background": "light"
     },
     "output_type": "display_data"
    }
   ],
   "source": [
    "sns.boxplot(x=df[\"Children\"],y=df[\"Charges\"],palette=\"Set2\")"
   ]
  },
  {
   "cell_type": "markdown",
   "metadata": {
    "papermill": {
     "duration": 0.054913,
     "end_time": "2021-01-01T17:52:44.385178",
     "exception": false,
     "start_time": "2021-01-01T17:52:44.330265",
     "status": "completed"
    },
    "tags": []
   },
   "source": [
    "* Having more children may be more expensive than those with no or less children."
   ]
  },
  {
   "cell_type": "markdown",
   "metadata": {
    "papermill": {
     "duration": 0.055737,
     "end_time": "2021-01-01T17:52:44.494490",
     "exception": false,
     "start_time": "2021-01-01T17:52:44.438753",
     "status": "completed"
    },
    "tags": []
   },
   "source": [
    "#### *Smoker* Status"
   ]
  },
  {
   "cell_type": "code",
   "execution_count": 9,
   "metadata": {
    "execution": {
     "iopub.execute_input": "2021-01-01T17:52:44.613260Z",
     "iopub.status.busy": "2021-01-01T17:52:44.612572Z",
     "iopub.status.idle": "2021-01-01T17:52:44.873641Z",
     "shell.execute_reply": "2021-01-01T17:52:44.872815Z"
    },
    "papermill": {
     "duration": 0.322901,
     "end_time": "2021-01-01T17:52:44.873785",
     "exception": false,
     "start_time": "2021-01-01T17:52:44.550884",
     "status": "completed"
    },
    "tags": []
   },
   "outputs": [
    {
     "data": {
      "text/plain": [
       "<matplotlib.axes._subplots.AxesSubplot at 0x7fd4c01d79d0>"
      ]
     },
     "execution_count": 9,
     "metadata": {},
     "output_type": "execute_result"
    },
    {
     "data": {
      "image/png": "[encoded data removed]",
      "text/plain": [
       "<Figure size 432x288 with 1 Axes>"
      ]
     },
     "metadata": {
      "needs_background": "light"
     },
     "output_type": "display_data"
    }
   ],
   "source": [
    "sns.boxplot(x=df[\"Smoker\"],y=df[\"Charges\"],palette={\"yes\":\"salmon\",\"no\":\"skyblue\"})"
   ]
  },
  {
   "cell_type": "markdown",
   "metadata": {
    "papermill": {
     "duration": 0.058235,
     "end_time": "2021-01-01T17:52:44.991068",
     "exception": false,
     "start_time": "2021-01-01T17:52:44.932833",
     "status": "completed"
    },
    "tags": []
   },
   "source": [
    "* Smokers have a chargers than non-smokers."
   ]
  },
  {
   "cell_type": "markdown",
   "metadata": {
    "papermill": {
     "duration": 0.061503,
     "end_time": "2021-01-01T17:52:45.112190",
     "exception": false,
     "start_time": "2021-01-01T17:52:45.050687",
     "status": "completed"
    },
    "tags": []
   },
   "source": [
    "#### *Region*"
   ]
  },
  {
   "cell_type": "code",
   "execution_count": 10,
   "metadata": {
    "execution": {
     "iopub.execute_input": "2021-01-01T17:52:45.248965Z",
     "iopub.status.busy": "2021-01-01T17:52:45.244765Z",
     "iopub.status.idle": "2021-01-01T17:52:45.450182Z",
     "shell.execute_reply": "2021-01-01T17:52:45.448982Z"
    },
    "papermill": {
     "duration": 0.275454,
     "end_time": "2021-01-01T17:52:45.450457",
     "exception": false,
     "start_time": "2021-01-01T17:52:45.175003",
     "status": "completed"
    },
    "tags": []
   },
   "outputs": [
    {
     "data": {
      "text/plain": [
       "<matplotlib.axes._subplots.AxesSubplot at 0x7fd4c01ea310>"
      ]
     },
     "execution_count": 10,
     "metadata": {},
     "output_type": "execute_result"
    },
    {
     "data": {
      "image/png": "[encoded data removed]",
      "text/plain": [
       "<Figure size 432x288 with 1 Axes>"
      ]
     },
     "metadata": {
      "needs_background": "light"
     },
     "output_type": "display_data"
    }
   ],
   "source": [
    "sns.boxplot(x=df[\"Region\"],y=df[\"Charges\"],palette=\"Set3\")"
   ]
  },
  {
   "cell_type": "markdown",
   "metadata": {
    "papermill": {
     "duration": 0.060057,
     "end_time": "2021-01-01T17:52:45.571303",
     "exception": false,
     "start_time": "2021-01-01T17:52:45.511246",
     "status": "completed"
    },
    "tags": []
   },
   "source": [
    "* On average there is no obvious relationship between the region and charges, but those in the southeast have a larger spread of higher charges."
   ]
  },
  {
   "cell_type": "markdown",
   "metadata": {
    "papermill": {
     "duration": 0.062255,
     "end_time": "2021-01-01T17:52:45.690526",
     "exception": false,
     "start_time": "2021-01-01T17:52:45.628271",
     "status": "completed"
    },
    "tags": []
   },
   "source": [
    "Let us now change the categorical features into numerical format:"
   ]
  },
  {
   "cell_type": "code",
   "execution_count": 11,
   "metadata": {
    "execution": {
     "iopub.execute_input": "2021-01-01T17:52:45.815487Z",
     "iopub.status.busy": "2021-01-01T17:52:45.813038Z",
     "iopub.status.idle": "2021-01-01T17:52:45.818754Z",
     "shell.execute_reply": "2021-01-01T17:52:45.818099Z"
    },
    "papermill": {
     "duration": 0.069033,
     "end_time": "2021-01-01T17:52:45.818878",
     "exception": false,
     "start_time": "2021-01-01T17:52:45.749845",
     "status": "completed"
    },
    "tags": []
   },
   "outputs": [],
   "source": [
    "df[\"Sex\"]=pd.get_dummies(df[\"Sex\"],drop_first=True)\n",
    "#where 0=female and 1=male"
   ]
  },
  {
   "cell_type": "code",
   "execution_count": 12,
   "metadata": {
    "execution": {
     "iopub.execute_input": "2021-01-01T17:52:45.943342Z",
     "iopub.status.busy": "2021-01-01T17:52:45.942662Z",
     "iopub.status.idle": "2021-01-01T17:52:45.946169Z",
     "shell.execute_reply": "2021-01-01T17:52:45.945489Z"
    },
    "papermill": {
     "duration": 0.069168,
     "end_time": "2021-01-01T17:52:45.946286",
     "exception": false,
     "start_time": "2021-01-01T17:52:45.877118",
     "status": "completed"
    },
    "tags": []
   },
   "outputs": [],
   "source": [
    "df[\"Smoker\"]=pd.get_dummies(df[\"Smoker\"],drop_first=True)\n",
    "#where 0=non-smoker and 1=smoker"
   ]
  },
  {
   "cell_type": "code",
   "execution_count": 13,
   "metadata": {
    "execution": {
     "iopub.execute_input": "2021-01-01T17:52:46.075307Z",
     "iopub.status.busy": "2021-01-01T17:52:46.074034Z",
     "iopub.status.idle": "2021-01-01T17:52:46.078914Z",
     "shell.execute_reply": "2021-01-01T17:52:46.078220Z"
    },
    "papermill": {
     "duration": 0.075699,
     "end_time": "2021-01-01T17:52:46.079032",
     "exception": false,
     "start_time": "2021-01-01T17:52:46.003333",
     "status": "completed"
    },
    "tags": []
   },
   "outputs": [],
   "source": [
    "df_regions=pd.get_dummies(df[\"Region\"])\n",
    "df=df.join(df_regions)\n",
    "df.drop([\"Region\"],axis=1,inplace=True)"
   ]
  },
  {
   "cell_type": "markdown",
   "metadata": {
    "papermill": {
     "duration": 0.056083,
     "end_time": "2021-01-01T17:52:46.191327",
     "exception": false,
     "start_time": "2021-01-01T17:52:46.135244",
     "status": "completed"
    },
    "tags": []
   },
   "source": [
    "The dataset now looks like this:"
   ]
  },
  {
   "cell_type": "code",
   "execution_count": 14,
   "metadata": {
    "execution": {
     "iopub.execute_input": "2021-01-01T17:52:46.317849Z",
     "iopub.status.busy": "2021-01-01T17:52:46.317122Z",
     "iopub.status.idle": "2021-01-01T17:52:46.322978Z",
     "shell.execute_reply": "2021-01-01T17:52:46.322287Z"
    },
    "papermill": {
     "duration": 0.075691,
     "end_time": "2021-01-01T17:52:46.323098",
     "exception": false,
     "start_time": "2021-01-01T17:52:46.247407",
     "status": "completed"
    },
    "tags": []
   },
   "outputs": [
    {
     "data": {
      "text/html": [
       "<div>\n",
       "<style scoped>\n",
       "    .dataframe tbody tr th:only-of-type {\n",
       "        vertical-align: middle;\n",
       "    }\n",
       "\n",
       "    .dataframe tbody tr th {\n",
       "        vertical-align: top;\n",
       "    }\n",
       "\n",
       "    .dataframe thead th {\n",
       "        text-align: right;\n",
       "    }\n",
       "</style>\n",
       "<table border=\"1\" class=\"dataframe\">\n",
       "  <thead>\n",
       "    <tr style=\"text-align: right;\">\n",
       "      <th></th>\n",
       "      <th>Age</th>\n",
       "      <th>Sex</th>\n",
       "      <th>BMI</th>\n",
       "      <th>Children</th>\n",
       "      <th>Smoker</th>\n",
       "      <th>Charges</th>\n",
       "      <th>northeast</th>\n",
       "      <th>northwest</th>\n",
       "      <th>southeast</th>\n",
       "      <th>southwest</th>\n",
       "    </tr>\n",
       "  </thead>\n",
       "  <tbody>\n",
       "    <tr>\n",
       "      <th>0</th>\n",
       "      <td>19</td>\n",
       "      <td>0</td>\n",
       "      <td>27.900</td>\n",
       "      <td>0</td>\n",
       "      <td>1</td>\n",
       "      <td>16884.92400</td>\n",
       "      <td>0</td>\n",
       "      <td>0</td>\n",
       "      <td>0</td>\n",
       "      <td>1</td>\n",
       "    </tr>\n",
       "    <tr>\n",
       "      <th>1</th>\n",
       "      <td>18</td>\n",
       "      <td>1</td>\n",
       "      <td>33.770</td>\n",
       "      <td>1</td>\n",
       "      <td>0</td>\n",
       "      <td>1725.55230</td>\n",
       "      <td>0</td>\n",
       "      <td>0</td>\n",
       "      <td>1</td>\n",
       "      <td>0</td>\n",
       "    </tr>\n",
       "    <tr>\n",
       "      <th>2</th>\n",
       "      <td>28</td>\n",
       "      <td>1</td>\n",
       "      <td>33.000</td>\n",
       "      <td>3</td>\n",
       "      <td>0</td>\n",
       "      <td>4449.46200</td>\n",
       "      <td>0</td>\n",
       "      <td>0</td>\n",
       "      <td>1</td>\n",
       "      <td>0</td>\n",
       "    </tr>\n",
       "    <tr>\n",
       "      <th>3</th>\n",
       "      <td>33</td>\n",
       "      <td>1</td>\n",
       "      <td>22.705</td>\n",
       "      <td>0</td>\n",
       "      <td>0</td>\n",
       "      <td>21984.47061</td>\n",
       "      <td>0</td>\n",
       "      <td>1</td>\n",
       "      <td>0</td>\n",
       "      <td>0</td>\n",
       "    </tr>\n",
       "    <tr>\n",
       "      <th>4</th>\n",
       "      <td>32</td>\n",
       "      <td>1</td>\n",
       "      <td>28.880</td>\n",
       "      <td>0</td>\n",
       "      <td>0</td>\n",
       "      <td>3866.85520</td>\n",
       "      <td>0</td>\n",
       "      <td>1</td>\n",
       "      <td>0</td>\n",
       "      <td>0</td>\n",
       "    </tr>\n",
       "  </tbody>\n",
       "</table>\n",
       "</div>"
      ],
      "text/plain": [
       "   Age  Sex     BMI  Children  Smoker      Charges  northeast  northwest  \\\n",
       "0   19    0  27.900         0       1  16884.92400          0          0   \n",
       "1   18    1  33.770         1       0   1725.55230          0          0   \n",
       "2   28    1  33.000         3       0   4449.46200          0          0   \n",
       "3   33    1  22.705         0       0  21984.47061          0          1   \n",
       "4   32    1  28.880         0       0   3866.85520          0          1   \n",
       "\n",
       "   southeast  southwest  \n",
       "0          0          1  \n",
       "1          1          0  \n",
       "2          1          0  \n",
       "3          0          0  \n",
       "4          0          0  "
      ]
     },
     "execution_count": 14,
     "metadata": {},
     "output_type": "execute_result"
    }
   ],
   "source": [
    "df.head()"
   ]
  },
  {
   "cell_type": "markdown",
   "metadata": {
    "papermill": {
     "duration": 0.05682,
     "end_time": "2021-01-01T17:52:46.438060",
     "exception": false,
     "start_time": "2021-01-01T17:52:46.381240",
     "status": "completed"
    },
    "tags": []
   },
   "source": [
    "We shall continue exploring our target variable, *Charges*:"
   ]
  },
  {
   "cell_type": "code",
   "execution_count": 15,
   "metadata": {
    "execution": {
     "iopub.execute_input": "2021-01-01T17:52:46.578398Z",
     "iopub.status.busy": "2021-01-01T17:52:46.573674Z",
     "iopub.status.idle": "2021-01-01T17:52:46.795808Z",
     "shell.execute_reply": "2021-01-01T17:52:46.795077Z"
    },
    "papermill": {
     "duration": 0.299026,
     "end_time": "2021-01-01T17:52:46.795938",
     "exception": false,
     "start_time": "2021-01-01T17:52:46.496912",
     "status": "completed"
    },
    "tags": []
   },
   "outputs": [
    {
     "data": {
      "text/plain": [
       "<matplotlib.axes._subplots.AxesSubplot at 0x7fd4c00b2490>"
      ]
     },
     "execution_count": 15,
     "metadata": {},
     "output_type": "execute_result"
    },
    {
     "data": {
      "image/png": "[encoded data removed]",
      "text/plain": [
       "<Figure size 432x288 with 1 Axes>"
      ]
     },
     "metadata": {
      "needs_background": "light"
     },
     "output_type": "display_data"
    }
   ],
   "source": [
    "sns.distplot(a=df[\"Charges\"],color=\"plum\",hist_kws=dict(edgecolor=\"black\",linewidth=2),bins=20,kde=False)"
   ]
  },
  {
   "cell_type": "code",
   "execution_count": 16,
   "metadata": {
    "execution": {
     "iopub.execute_input": "2021-01-01T17:52:46.925175Z",
     "iopub.status.busy": "2021-01-01T17:52:46.924339Z",
     "iopub.status.idle": "2021-01-01T17:52:46.929991Z",
     "shell.execute_reply": "2021-01-01T17:52:46.929283Z"
    },
    "papermill": {
     "duration": 0.071995,
     "end_time": "2021-01-01T17:52:46.930110",
     "exception": false,
     "start_time": "2021-01-01T17:52:46.858115",
     "status": "completed"
    },
    "tags": []
   },
   "outputs": [
    {
     "name": "stdout",
     "output_type": "stream",
     "text": [
      "Charges have a skewness of 1.51.\n"
     ]
    }
   ],
   "source": [
    "print(\"Charges have a skewness of {:.2f}.\".format(stats.skew(df[\"Charges\"])))"
   ]
  },
  {
   "cell_type": "code",
   "execution_count": 17,
   "metadata": {
    "execution": {
     "iopub.execute_input": "2021-01-01T17:52:47.071977Z",
     "iopub.status.busy": "2021-01-01T17:52:47.070551Z",
     "iopub.status.idle": "2021-01-01T17:52:47.075679Z",
     "shell.execute_reply": "2021-01-01T17:52:47.074847Z"
    },
    "papermill": {
     "duration": 0.079685,
     "end_time": "2021-01-01T17:52:47.075820",
     "exception": false,
     "start_time": "2021-01-01T17:52:46.996135",
     "status": "completed"
    },
    "tags": []
   },
   "outputs": [
    {
     "data": {
      "text/plain": [
       "count     1338.000000\n",
       "mean     13270.422265\n",
       "std      12110.011237\n",
       "min       1121.873900\n",
       "25%       4740.287150\n",
       "50%       9382.033000\n",
       "75%      16639.912515\n",
       "max      63770.428010\n",
       "Name: Charges, dtype: float64"
      ]
     },
     "execution_count": 17,
     "metadata": {},
     "output_type": "execute_result"
    }
   ],
   "source": [
    "df[\"Charges\"].describe()"
   ]
  },
  {
   "cell_type": "code",
   "execution_count": 18,
   "metadata": {
    "execution": {
     "iopub.execute_input": "2021-01-01T17:52:47.266332Z",
     "iopub.status.busy": "2021-01-01T17:52:47.265586Z",
     "iopub.status.idle": "2021-01-01T17:52:47.396294Z",
     "shell.execute_reply": "2021-01-01T17:52:47.395678Z"
    },
    "papermill": {
     "duration": 0.207557,
     "end_time": "2021-01-01T17:52:47.396454",
     "exception": false,
     "start_time": "2021-01-01T17:52:47.188897",
     "status": "completed"
    },
    "tags": []
   },
   "outputs": [
    {
     "data": {
      "text/plain": [
       "<matplotlib.axes._subplots.AxesSubplot at 0x7fd4b978e610>"
      ]
     },
     "execution_count": 18,
     "metadata": {},
     "output_type": "execute_result"
    },
    {
     "data": {
      "image/png": "[encoded data removed]",
      "text/plain": [
       "<Figure size 864x288 with 1 Axes>"
      ]
     },
     "metadata": {
      "needs_background": "light"
     },
     "output_type": "display_data"
    }
   ],
   "source": [
    "plt.figure(figsize=(12,4))\n",
    "sns.boxplot(df[\"Charges\"],color=\"plum\")"
   ]
  },
  {
   "cell_type": "code",
   "execution_count": 19,
   "metadata": {
    "execution": {
     "iopub.execute_input": "2021-01-01T17:52:47.549520Z",
     "iopub.status.busy": "2021-01-01T17:52:47.548100Z",
     "iopub.status.idle": "2021-01-01T17:52:47.850323Z",
     "shell.execute_reply": "2021-01-01T17:52:47.850831Z"
    },
    "papermill": {
     "duration": 0.381237,
     "end_time": "2021-01-01T17:52:47.850993",
     "exception": false,
     "start_time": "2021-01-01T17:52:47.469756",
     "status": "completed"
    },
    "tags": []
   },
   "outputs": [
    {
     "data": {
      "text/plain": [
       "<matplotlib.axes._subplots.AxesSubplot at 0x7fd4b9773410>"
      ]
     },
     "execution_count": 19,
     "metadata": {},
     "output_type": "execute_result"
    },
    {
     "data": {
      "image/png": "[encoded data removed]",
      "text/plain": [
       "<Figure size 432x288 with 2 Axes>"
      ]
     },
     "metadata": {
      "needs_background": "light"
     },
     "output_type": "display_data"
    }
   ],
   "source": [
    "mask=np.zeros_like(df.corr(),dtype=np.bool)\n",
    "mask[np.triu_indices_from(mask)]=True\n",
    "sns.heatmap(df.corr(),annot=False,mask=mask,square=True,cmap=\"PuRd\",linewidths=1,linecolor=\"white\")"
   ]
  },
  {
   "cell_type": "code",
   "execution_count": 20,
   "metadata": {
    "execution": {
     "iopub.execute_input": "2021-01-01T17:52:47.993521Z",
     "iopub.status.busy": "2021-01-01T17:52:47.978873Z",
     "iopub.status.idle": "2021-01-01T17:52:48.000704Z",
     "shell.execute_reply": "2021-01-01T17:52:48.000023Z"
    },
    "papermill": {
     "duration": 0.088612,
     "end_time": "2021-01-01T17:52:48.000834",
     "exception": false,
     "start_time": "2021-01-01T17:52:47.912222",
     "status": "completed"
    },
    "tags": []
   },
   "outputs": [
    {
     "data": {
      "text/html": [
       "<div>\n",
       "<style scoped>\n",
       "    .dataframe tbody tr th:only-of-type {\n",
       "        vertical-align: middle;\n",
       "    }\n",
       "\n",
       "    .dataframe tbody tr th {\n",
       "        vertical-align: top;\n",
       "    }\n",
       "\n",
       "    .dataframe thead th {\n",
       "        text-align: right;\n",
       "    }\n",
       "</style>\n",
       "<table border=\"1\" class=\"dataframe\">\n",
       "  <thead>\n",
       "    <tr style=\"text-align: right;\">\n",
       "      <th></th>\n",
       "      <th>Age</th>\n",
       "      <th>Sex</th>\n",
       "      <th>BMI</th>\n",
       "      <th>Children</th>\n",
       "      <th>Smoker</th>\n",
       "      <th>Charges</th>\n",
       "      <th>northeast</th>\n",
       "      <th>northwest</th>\n",
       "      <th>southeast</th>\n",
       "      <th>southwest</th>\n",
       "    </tr>\n",
       "  </thead>\n",
       "  <tbody>\n",
       "    <tr>\n",
       "      <th>Age</th>\n",
       "      <td>1.000000</td>\n",
       "      <td>-0.020856</td>\n",
       "      <td>0.109272</td>\n",
       "      <td>0.042469</td>\n",
       "      <td>-0.025019</td>\n",
       "      <td>0.299008</td>\n",
       "      <td>0.002475</td>\n",
       "      <td>-0.000407</td>\n",
       "      <td>-0.011642</td>\n",
       "      <td>0.010016</td>\n",
       "    </tr>\n",
       "    <tr>\n",
       "      <th>Sex</th>\n",
       "      <td>-0.020856</td>\n",
       "      <td>1.000000</td>\n",
       "      <td>0.046371</td>\n",
       "      <td>0.017163</td>\n",
       "      <td>0.076185</td>\n",
       "      <td>0.057292</td>\n",
       "      <td>-0.002425</td>\n",
       "      <td>-0.011156</td>\n",
       "      <td>0.017117</td>\n",
       "      <td>-0.004184</td>\n",
       "    </tr>\n",
       "    <tr>\n",
       "      <th>BMI</th>\n",
       "      <td>0.109272</td>\n",
       "      <td>0.046371</td>\n",
       "      <td>1.000000</td>\n",
       "      <td>0.012759</td>\n",
       "      <td>0.003750</td>\n",
       "      <td>0.198341</td>\n",
       "      <td>-0.138156</td>\n",
       "      <td>-0.135996</td>\n",
       "      <td>0.270025</td>\n",
       "      <td>-0.006205</td>\n",
       "    </tr>\n",
       "    <tr>\n",
       "      <th>Children</th>\n",
       "      <td>0.042469</td>\n",
       "      <td>0.017163</td>\n",
       "      <td>0.012759</td>\n",
       "      <td>1.000000</td>\n",
       "      <td>0.007673</td>\n",
       "      <td>0.067998</td>\n",
       "      <td>-0.022808</td>\n",
       "      <td>0.024806</td>\n",
       "      <td>-0.023066</td>\n",
       "      <td>0.021914</td>\n",
       "    </tr>\n",
       "    <tr>\n",
       "      <th>Smoker</th>\n",
       "      <td>-0.025019</td>\n",
       "      <td>0.076185</td>\n",
       "      <td>0.003750</td>\n",
       "      <td>0.007673</td>\n",
       "      <td>1.000000</td>\n",
       "      <td>0.787251</td>\n",
       "      <td>0.002811</td>\n",
       "      <td>-0.036945</td>\n",
       "      <td>0.068498</td>\n",
       "      <td>-0.036945</td>\n",
       "    </tr>\n",
       "    <tr>\n",
       "      <th>Charges</th>\n",
       "      <td>0.299008</td>\n",
       "      <td>0.057292</td>\n",
       "      <td>0.198341</td>\n",
       "      <td>0.067998</td>\n",
       "      <td>0.787251</td>\n",
       "      <td>1.000000</td>\n",
       "      <td>0.006349</td>\n",
       "      <td>-0.039905</td>\n",
       "      <td>0.073982</td>\n",
       "      <td>-0.043210</td>\n",
       "    </tr>\n",
       "    <tr>\n",
       "      <th>northeast</th>\n",
       "      <td>0.002475</td>\n",
       "      <td>-0.002425</td>\n",
       "      <td>-0.138156</td>\n",
       "      <td>-0.022808</td>\n",
       "      <td>0.002811</td>\n",
       "      <td>0.006349</td>\n",
       "      <td>1.000000</td>\n",
       "      <td>-0.320177</td>\n",
       "      <td>-0.345561</td>\n",
       "      <td>-0.320177</td>\n",
       "    </tr>\n",
       "    <tr>\n",
       "      <th>northwest</th>\n",
       "      <td>-0.000407</td>\n",
       "      <td>-0.011156</td>\n",
       "      <td>-0.135996</td>\n",
       "      <td>0.024806</td>\n",
       "      <td>-0.036945</td>\n",
       "      <td>-0.039905</td>\n",
       "      <td>-0.320177</td>\n",
       "      <td>1.000000</td>\n",
       "      <td>-0.346265</td>\n",
       "      <td>-0.320829</td>\n",
       "    </tr>\n",
       "    <tr>\n",
       "      <th>southeast</th>\n",
       "      <td>-0.011642</td>\n",
       "      <td>0.017117</td>\n",
       "      <td>0.270025</td>\n",
       "      <td>-0.023066</td>\n",
       "      <td>0.068498</td>\n",
       "      <td>0.073982</td>\n",
       "      <td>-0.345561</td>\n",
       "      <td>-0.346265</td>\n",
       "      <td>1.000000</td>\n",
       "      <td>-0.346265</td>\n",
       "    </tr>\n",
       "    <tr>\n",
       "      <th>southwest</th>\n",
       "      <td>0.010016</td>\n",
       "      <td>-0.004184</td>\n",
       "      <td>-0.006205</td>\n",
       "      <td>0.021914</td>\n",
       "      <td>-0.036945</td>\n",
       "      <td>-0.043210</td>\n",
       "      <td>-0.320177</td>\n",
       "      <td>-0.320829</td>\n",
       "      <td>-0.346265</td>\n",
       "      <td>1.000000</td>\n",
       "    </tr>\n",
       "  </tbody>\n",
       "</table>\n",
       "</div>"
      ],
      "text/plain": [
       "                Age       Sex       BMI  Children    Smoker   Charges  \\\n",
       "Age        1.000000 -0.020856  0.109272  0.042469 -0.025019  0.299008   \n",
       "Sex       -0.020856  1.000000  0.046371  0.017163  0.076185  0.057292   \n",
       "BMI        0.109272  0.046371  1.000000  0.012759  0.003750  0.198341   \n",
       "Children   0.042469  0.017163  0.012759  1.000000  0.007673  0.067998   \n",
       "Smoker    -0.025019  0.076185  0.003750  0.007673  1.000000  0.787251   \n",
       "Charges    0.299008  0.057292  0.198341  0.067998  0.787251  1.000000   \n",
       "northeast  0.002475 -0.002425 -0.138156 -0.022808  0.002811  0.006349   \n",
       "northwest -0.000407 -0.011156 -0.135996  0.024806 -0.036945 -0.039905   \n",
       "southeast -0.011642  0.017117  0.270025 -0.023066  0.068498  0.073982   \n",
       "southwest  0.010016 -0.004184 -0.006205  0.021914 -0.036945 -0.043210   \n",
       "\n",
       "           northeast  northwest  southeast  southwest  \n",
       "Age         0.002475  -0.000407  -0.011642   0.010016  \n",
       "Sex        -0.002425  -0.011156   0.017117  -0.004184  \n",
       "BMI        -0.138156  -0.135996   0.270025  -0.006205  \n",
       "Children   -0.022808   0.024806  -0.023066   0.021914  \n",
       "Smoker      0.002811  -0.036945   0.068498  -0.036945  \n",
       "Charges     0.006349  -0.039905   0.073982  -0.043210  \n",
       "northeast   1.000000  -0.320177  -0.345561  -0.320177  \n",
       "northwest  -0.320177   1.000000  -0.346265  -0.320829  \n",
       "southeast  -0.345561  -0.346265   1.000000  -0.346265  \n",
       "southwest  -0.320177  -0.320829  -0.346265   1.000000  "
      ]
     },
     "execution_count": 20,
     "metadata": {},
     "output_type": "execute_result"
    }
   ],
   "source": [
    "df.corr()"
   ]
  },
  {
   "cell_type": "code",
   "execution_count": 21,
   "metadata": {
    "execution": {
     "iopub.execute_input": "2021-01-01T17:52:48.141786Z",
     "iopub.status.busy": "2021-01-01T17:52:48.140923Z",
     "iopub.status.idle": "2021-01-01T17:52:48.149545Z",
     "shell.execute_reply": "2021-01-01T17:52:48.150035Z"
    },
    "papermill": {
     "duration": 0.080561,
     "end_time": "2021-01-01T17:52:48.150209",
     "exception": false,
     "start_time": "2021-01-01T17:52:48.069648",
     "status": "completed"
    },
    "tags": []
   },
   "outputs": [
    {
     "data": {
      "text/plain": [
       "Ttest_indResult(statistic=46.664921172723716, pvalue=8.271435842177219e-283)"
      ]
     },
     "execution_count": 21,
     "metadata": {},
     "output_type": "execute_result"
    }
   ],
   "source": [
    "a=df[\"Charges\"].loc[df[\"Smoker\"]==1]\n",
    "b=df[\"Charges\"].loc[df[\"Smoker\"]==0]\n",
    "\n",
    "stats.ttest_ind(a,b)"
   ]
  },
  {
   "cell_type": "markdown",
   "metadata": {
    "papermill": {
     "duration": 0.063004,
     "end_time": "2021-01-01T17:52:48.277184",
     "exception": false,
     "start_time": "2021-01-01T17:52:48.214180",
     "status": "completed"
    },
    "tags": []
   },
   "source": [
    "* The charges can range from USD 1121 to USD 63770 with an average charge of USD 13270 and a right skewness of 1.51.\n",
    "* Charges are strongly correlated (0.79) and statistically significant (8e-283 pvalue) to whether the individual smokes or not.\n",
    "* Age and BMI are weakly correlated to charges; sex, number of children and region have almost no correlation with charges."
   ]
  },
  {
   "cell_type": "markdown",
   "metadata": {
    "papermill": {
     "duration": 0.065009,
     "end_time": "2021-01-01T17:52:48.407472",
     "exception": false,
     "start_time": "2021-01-01T17:52:48.342463",
     "status": "completed"
    },
    "tags": []
   },
   "source": [
    "The data will be split into a training and a testing set to train the model:"
   ]
  },
  {
   "cell_type": "code",
   "execution_count": 22,
   "metadata": {
    "execution": {
     "iopub.execute_input": "2021-01-01T17:52:48.542335Z",
     "iopub.status.busy": "2021-01-01T17:52:48.541584Z",
     "iopub.status.idle": "2021-01-01T17:52:48.702967Z",
     "shell.execute_reply": "2021-01-01T17:52:48.701694Z"
    },
    "papermill": {
     "duration": 0.231369,
     "end_time": "2021-01-01T17:52:48.703115",
     "exception": false,
     "start_time": "2021-01-01T17:52:48.471746",
     "status": "completed"
    },
    "tags": []
   },
   "outputs": [],
   "source": [
    "from sklearn.model_selection import train_test_split"
   ]
  },
  {
   "cell_type": "code",
   "execution_count": 23,
   "metadata": {
    "execution": {
     "iopub.execute_input": "2021-01-01T17:52:48.840756Z",
     "iopub.status.busy": "2021-01-01T17:52:48.839691Z",
     "iopub.status.idle": "2021-01-01T17:52:48.843435Z",
     "shell.execute_reply": "2021-01-01T17:52:48.842889Z"
    },
    "papermill": {
     "duration": 0.075327,
     "end_time": "2021-01-01T17:52:48.843560",
     "exception": false,
     "start_time": "2021-01-01T17:52:48.768233",
     "status": "completed"
    },
    "tags": []
   },
   "outputs": [],
   "source": [
    "x=df.drop([\"Charges\"],axis=1)\n",
    "y=df[\"Charges\"]"
   ]
  },
  {
   "cell_type": "code",
   "execution_count": 24,
   "metadata": {
    "execution": {
     "iopub.execute_input": "2021-01-01T17:52:48.980097Z",
     "iopub.status.busy": "2021-01-01T17:52:48.978874Z",
     "iopub.status.idle": "2021-01-01T17:52:48.984022Z",
     "shell.execute_reply": "2021-01-01T17:52:48.983301Z"
    },
    "papermill": {
     "duration": 0.077374,
     "end_time": "2021-01-01T17:52:48.984266",
     "exception": false,
     "start_time": "2021-01-01T17:52:48.906892",
     "status": "completed"
    },
    "tags": []
   },
   "outputs": [],
   "source": [
    "x_train,x_test,y_train,y_test=train_test_split(x,y,test_size=0.33,random_state=7)"
   ]
  },
  {
   "cell_type": "code",
   "execution_count": 25,
   "metadata": {
    "execution": {
     "iopub.execute_input": "2021-01-01T17:52:49.124722Z",
     "iopub.status.busy": "2021-01-01T17:52:49.123918Z",
     "iopub.status.idle": "2021-01-01T17:52:49.129180Z",
     "shell.execute_reply": "2021-01-01T17:52:49.129695Z"
    },
    "papermill": {
     "duration": 0.077172,
     "end_time": "2021-01-01T17:52:49.129876",
     "exception": false,
     "start_time": "2021-01-01T17:52:49.052704",
     "status": "completed"
    },
    "tags": []
   },
   "outputs": [
    {
     "name": "stdout",
     "output_type": "stream",
     "text": [
      "Training set x shape: (896, 9) and y shape (896,)\n",
      "Testing set x shape: (442, 9) and y shape (442,)\n"
     ]
    }
   ],
   "source": [
    "print(\"Training set x shape:\",x_train.shape,\"and y shape\",y_train.shape)\n",
    "print(\"Testing set x shape:\",x_test.shape,\"and y shape\",y_test.shape)"
   ]
  },
  {
   "cell_type": "markdown",
   "metadata": {
    "papermill": {
     "duration": 0.063941,
     "end_time": "2021-01-01T17:52:49.258931",
     "exception": false,
     "start_time": "2021-01-01T17:52:49.194990",
     "status": "completed"
    },
    "tags": []
   },
   "source": [
    "As the data includes a range of continuous and discrete variables, the data will need to be scaled to ensure those larger values to not give an inaccurate higher weighting. The training set will be fit to the scaler and transformed, while the testing set will only be transformed to avoid any data leakage:"
   ]
  },
  {
   "cell_type": "code",
   "execution_count": 26,
   "metadata": {
    "execution": {
     "iopub.execute_input": "2021-01-01T17:52:49.395159Z",
     "iopub.status.busy": "2021-01-01T17:52:49.394506Z",
     "iopub.status.idle": "2021-01-01T17:52:49.397596Z",
     "shell.execute_reply": "2021-01-01T17:52:49.398177Z"
    },
    "papermill": {
     "duration": 0.074404,
     "end_time": "2021-01-01T17:52:49.398337",
     "exception": false,
     "start_time": "2021-01-01T17:52:49.323933",
     "status": "completed"
    },
    "tags": []
   },
   "outputs": [],
   "source": [
    "from sklearn.preprocessing import StandardScaler"
   ]
  },
  {
   "cell_type": "code",
   "execution_count": 27,
   "metadata": {
    "execution": {
     "iopub.execute_input": "2021-01-01T17:52:49.534244Z",
     "iopub.status.busy": "2021-01-01T17:52:49.533570Z",
     "iopub.status.idle": "2021-01-01T17:52:49.536932Z",
     "shell.execute_reply": "2021-01-01T17:52:49.536240Z"
    },
    "papermill": {
     "duration": 0.072172,
     "end_time": "2021-01-01T17:52:49.537050",
     "exception": false,
     "start_time": "2021-01-01T17:52:49.464878",
     "status": "completed"
    },
    "tags": []
   },
   "outputs": [],
   "source": [
    "scaler=StandardScaler()"
   ]
  },
  {
   "cell_type": "code",
   "execution_count": 28,
   "metadata": {
    "execution": {
     "iopub.execute_input": "2021-01-01T17:52:49.677275Z",
     "iopub.status.busy": "2021-01-01T17:52:49.676557Z",
     "iopub.status.idle": "2021-01-01T17:52:49.683593Z",
     "shell.execute_reply": "2021-01-01T17:52:49.683003Z"
    },
    "papermill": {
     "duration": 0.080156,
     "end_time": "2021-01-01T17:52:49.683710",
     "exception": false,
     "start_time": "2021-01-01T17:52:49.603554",
     "status": "completed"
    },
    "tags": []
   },
   "outputs": [],
   "source": [
    "x_train=scaler.fit_transform(x_train)"
   ]
  },
  {
   "cell_type": "code",
   "execution_count": 29,
   "metadata": {
    "execution": {
     "iopub.execute_input": "2021-01-01T17:52:49.823628Z",
     "iopub.status.busy": "2021-01-01T17:52:49.822930Z",
     "iopub.status.idle": "2021-01-01T17:52:49.827132Z",
     "shell.execute_reply": "2021-01-01T17:52:49.826451Z"
    },
    "papermill": {
     "duration": 0.075998,
     "end_time": "2021-01-01T17:52:49.827258",
     "exception": false,
     "start_time": "2021-01-01T17:52:49.751260",
     "status": "completed"
    },
    "tags": []
   },
   "outputs": [],
   "source": [
    "x_test=scaler.transform(x_test)"
   ]
  },
  {
   "cell_type": "markdown",
   "metadata": {
    "papermill": {
     "duration": 0.067028,
     "end_time": "2021-01-01T17:52:49.961082",
     "exception": false,
     "start_time": "2021-01-01T17:52:49.894054",
     "status": "completed"
    },
    "tags": []
   },
   "source": [
    "There are nine independent variables that can predict the target variable, *Charges*, but not all nine will have the same predictive power. Based on their scores (larger is better) and pvalues (smaller is better) it can then be decided if all nine or a selection of the variables will be used in the model. If only a selection will be used - as with scaling - it is important to fit and transform the training set while only transforming the testing set to prevent any data leakage:"
   ]
  },
  {
   "cell_type": "code",
   "execution_count": 30,
   "metadata": {
    "execution": {
     "iopub.execute_input": "2021-01-01T17:52:50.101456Z",
     "iopub.status.busy": "2021-01-01T17:52:50.100328Z",
     "iopub.status.idle": "2021-01-01T17:52:50.308078Z",
     "shell.execute_reply": "2021-01-01T17:52:50.307322Z"
    },
    "papermill": {
     "duration": 0.278181,
     "end_time": "2021-01-01T17:52:50.308205",
     "exception": false,
     "start_time": "2021-01-01T17:52:50.030024",
     "status": "completed"
    },
    "tags": []
   },
   "outputs": [],
   "source": [
    "from sklearn.feature_selection import SelectKBest,f_regression"
   ]
  },
  {
   "cell_type": "code",
   "execution_count": 31,
   "metadata": {
    "execution": {
     "iopub.execute_input": "2021-01-01T17:52:50.444574Z",
     "iopub.status.busy": "2021-01-01T17:52:50.443693Z",
     "iopub.status.idle": "2021-01-01T17:52:50.446816Z",
     "shell.execute_reply": "2021-01-01T17:52:50.446064Z"
    },
    "papermill": {
     "duration": 0.072605,
     "end_time": "2021-01-01T17:52:50.446943",
     "exception": false,
     "start_time": "2021-01-01T17:52:50.374338",
     "status": "completed"
    },
    "tags": []
   },
   "outputs": [],
   "source": [
    "selector=SelectKBest(f_regression,k=\"all\")"
   ]
  },
  {
   "cell_type": "code",
   "execution_count": 32,
   "metadata": {
    "execution": {
     "iopub.execute_input": "2021-01-01T17:52:50.587558Z",
     "iopub.status.busy": "2021-01-01T17:52:50.586823Z",
     "iopub.status.idle": "2021-01-01T17:52:50.590927Z",
     "shell.execute_reply": "2021-01-01T17:52:50.590367Z"
    },
    "papermill": {
     "duration": 0.079314,
     "end_time": "2021-01-01T17:52:50.591048",
     "exception": false,
     "start_time": "2021-01-01T17:52:50.511734",
     "status": "completed"
    },
    "tags": []
   },
   "outputs": [],
   "source": [
    "x_selection=selector.fit(x_train,y_train)"
   ]
  },
  {
   "cell_type": "code",
   "execution_count": 33,
   "metadata": {
    "execution": {
     "iopub.execute_input": "2021-01-01T17:52:50.728427Z",
     "iopub.status.busy": "2021-01-01T17:52:50.727507Z",
     "iopub.status.idle": "2021-01-01T17:52:50.732247Z",
     "shell.execute_reply": "2021-01-01T17:52:50.732895Z"
    },
    "papermill": {
     "duration": 0.07631,
     "end_time": "2021-01-01T17:52:50.733067",
     "exception": false,
     "start_time": "2021-01-01T17:52:50.656757",
     "status": "completed"
    },
    "tags": []
   },
   "outputs": [
    {
     "data": {
      "text/plain": [
       "Index(['Age', 'Sex', 'BMI', 'Children', 'Smoker', 'northeast', 'northwest',\n",
       "       'southeast', 'southwest'],\n",
       "      dtype='object')"
      ]
     },
     "execution_count": 33,
     "metadata": {},
     "output_type": "execute_result"
    }
   ],
   "source": [
    "x.columns"
   ]
  },
  {
   "cell_type": "code",
   "execution_count": 34,
   "metadata": {
    "execution": {
     "iopub.execute_input": "2021-01-01T17:52:50.874555Z",
     "iopub.status.busy": "2021-01-01T17:52:50.873735Z",
     "iopub.status.idle": "2021-01-01T17:52:50.877746Z",
     "shell.execute_reply": "2021-01-01T17:52:50.877135Z"
    },
    "papermill": {
     "duration": 0.078336,
     "end_time": "2021-01-01T17:52:50.877867",
     "exception": false,
     "start_time": "2021-01-01T17:52:50.799531",
     "status": "completed"
    },
    "tags": []
   },
   "outputs": [
    {
     "data": {
      "text/plain": [
       "array([7.94849923e+01, 3.46815689e+00, 4.36805508e+01, 2.83600501e+00,\n",
       "       1.44342260e+03, 6.82315883e-02, 7.39688840e-01, 5.68765383e+00,\n",
       "       3.53076642e+00])"
      ]
     },
     "execution_count": 34,
     "metadata": {},
     "output_type": "execute_result"
    }
   ],
   "source": [
    "x_selection.scores_"
   ]
  },
  {
   "cell_type": "code",
   "execution_count": 35,
   "metadata": {
    "execution": {
     "iopub.execute_input": "2021-01-01T17:52:51.019343Z",
     "iopub.status.busy": "2021-01-01T17:52:51.018264Z",
     "iopub.status.idle": "2021-01-01T17:52:51.022049Z",
     "shell.execute_reply": "2021-01-01T17:52:51.022635Z"
    },
    "papermill": {
     "duration": 0.077964,
     "end_time": "2021-01-01T17:52:51.022796",
     "exception": false,
     "start_time": "2021-01-01T17:52:50.944832",
     "status": "completed"
    },
    "tags": []
   },
   "outputs": [
    {
     "data": {
      "text/plain": [
       "array([2.68888736e-018, 6.28888600e-002, 6.63666856e-011, 9.25221932e-002,\n",
       "       8.97113856e-189, 7.93989365e-001, 3.89991145e-001, 1.72922260e-002,\n",
       "       6.05650683e-002])"
      ]
     },
     "execution_count": 35,
     "metadata": {},
     "output_type": "execute_result"
    }
   ],
   "source": [
    "x_selection.pvalues_"
   ]
  },
  {
   "cell_type": "markdown",
   "metadata": {
    "papermill": {
     "duration": 0.069396,
     "end_time": "2021-01-01T17:52:51.158701",
     "exception": false,
     "start_time": "2021-01-01T17:52:51.089305",
     "status": "completed"
    },
    "tags": []
   },
   "source": [
    "* As discovered previously, smoking is a strong predictor with the largest score (1e+03) and smallest pvalue (8e-189). This is followed by age and BMI.\n",
    "* All of the nine variables are statistically significant with a pvalue of less than 0.05, so all the nine variables will be used in the model. Hence no need to transform the data."
   ]
  },
  {
   "cell_type": "markdown",
   "metadata": {
    "papermill": {
     "duration": 0.068161,
     "end_time": "2021-01-01T17:52:51.295921",
     "exception": false,
     "start_time": "2021-01-01T17:52:51.227760",
     "status": "completed"
    },
    "tags": []
   },
   "source": [
    "Various regression models will be tested and evaluated based on their cross validated accuracy score:"
   ]
  },
  {
   "cell_type": "code",
   "execution_count": 36,
   "metadata": {
    "execution": {
     "iopub.execute_input": "2021-01-01T17:52:51.436545Z",
     "iopub.status.busy": "2021-01-01T17:52:51.435787Z",
     "iopub.status.idle": "2021-01-01T17:52:51.508692Z",
     "shell.execute_reply": "2021-01-01T17:52:51.507870Z"
    },
    "papermill": {
     "duration": 0.14532,
     "end_time": "2021-01-01T17:52:51.508825",
     "exception": false,
     "start_time": "2021-01-01T17:52:51.363505",
     "status": "completed"
    },
    "tags": []
   },
   "outputs": [],
   "source": [
    "from sklearn.linear_model import LinearRegression\n",
    "from sklearn.neighbors import KNeighborsRegressor\n",
    "from sklearn.svm import SVR\n",
    "from sklearn.ensemble import RandomForestRegressor"
   ]
  },
  {
   "cell_type": "code",
   "execution_count": 37,
   "metadata": {
    "execution": {
     "iopub.execute_input": "2021-01-01T17:52:51.652320Z",
     "iopub.status.busy": "2021-01-01T17:52:51.651652Z",
     "iopub.status.idle": "2021-01-01T17:52:51.655178Z",
     "shell.execute_reply": "2021-01-01T17:52:51.654626Z"
    },
    "papermill": {
     "duration": 0.07808,
     "end_time": "2021-01-01T17:52:51.655617",
     "exception": false,
     "start_time": "2021-01-01T17:52:51.577537",
     "status": "completed"
    },
    "tags": []
   },
   "outputs": [],
   "source": [
    "from sklearn.model_selection import cross_val_score"
   ]
  },
  {
   "cell_type": "code",
   "execution_count": 38,
   "metadata": {
    "execution": {
     "iopub.execute_input": "2021-01-01T17:52:51.797231Z",
     "iopub.status.busy": "2021-01-01T17:52:51.796508Z",
     "iopub.status.idle": "2021-01-01T17:52:51.800331Z",
     "shell.execute_reply": "2021-01-01T17:52:51.799646Z"
    },
    "papermill": {
     "duration": 0.077688,
     "end_time": "2021-01-01T17:52:51.800465",
     "exception": false,
     "start_time": "2021-01-01T17:52:51.722777",
     "status": "completed"
    },
    "tags": []
   },
   "outputs": [],
   "source": [
    "names=[\"LinearRegression\",\"kNN\",\"SVM\",\"RandomForest\"]\n",
    "models=[LinearRegression(),KNeighborsRegressor(),SVR(),RandomForestRegressor()]\n",
    "meancross=[]\n",
    "stdcross=[]"
   ]
  },
  {
   "cell_type": "code",
   "execution_count": 39,
   "metadata": {
    "execution": {
     "iopub.execute_input": "2021-01-01T17:52:51.953112Z",
     "iopub.status.busy": "2021-01-01T17:52:51.951964Z",
     "iopub.status.idle": "2021-01-01T17:52:54.561028Z",
     "shell.execute_reply": "2021-01-01T17:52:54.561543Z"
    },
    "papermill": {
     "duration": 2.694637,
     "end_time": "2021-01-01T17:52:54.561725",
     "exception": false,
     "start_time": "2021-01-01T17:52:51.867088",
     "status": "completed"
    },
    "tags": []
   },
   "outputs": [],
   "source": [
    "for model in models:\n",
    "    model=model\n",
    "    model.fit(x_train,y_train)\n",
    "    rcross=cross_val_score(model,x_train,y_train,cv=5)\n",
    "    meancross.append(rcross.mean())\n",
    "    stdcross.append(rcross.std())"
   ]
  },
  {
   "cell_type": "code",
   "execution_count": 40,
   "metadata": {
    "execution": {
     "iopub.execute_input": "2021-01-01T17:52:54.709280Z",
     "iopub.status.busy": "2021-01-01T17:52:54.708159Z",
     "iopub.status.idle": "2021-01-01T17:52:54.773247Z",
     "shell.execute_reply": "2021-01-01T17:52:54.772561Z"
    },
    "papermill": {
     "duration": 0.138735,
     "end_time": "2021-01-01T17:52:54.773398",
     "exception": false,
     "start_time": "2021-01-01T17:52:54.634663",
     "status": "completed"
    },
    "tags": []
   },
   "outputs": [
    {
     "data": {
      "text/html": [
       "<div>\n",
       "<style scoped>\n",
       "    .dataframe tbody tr th:only-of-type {\n",
       "        vertical-align: middle;\n",
       "    }\n",
       "\n",
       "    .dataframe tbody tr th {\n",
       "        vertical-align: top;\n",
       "    }\n",
       "\n",
       "    .dataframe thead th {\n",
       "        text-align: right;\n",
       "    }\n",
       "</style>\n",
       "<table border=\"1\" class=\"dataframe\">\n",
       "  <thead>\n",
       "    <tr style=\"text-align: right;\">\n",
       "      <th></th>\n",
       "      <th>Name</th>\n",
       "      <th>Model</th>\n",
       "      <th>RCrossMean</th>\n",
       "      <th>RCrossStd</th>\n",
       "    </tr>\n",
       "  </thead>\n",
       "  <tbody>\n",
       "    <tr>\n",
       "      <th>3</th>\n",
       "      <td>RandomForest</td>\n",
       "      <td>(DecisionTreeRegressor(max_features='auto', ra...</td>\n",
       "      <td>0.843695</td>\n",
       "      <td>0.027661</td>\n",
       "    </tr>\n",
       "    <tr>\n",
       "      <th>1</th>\n",
       "      <td>kNN</td>\n",
       "      <td>KNeighborsRegressor()</td>\n",
       "      <td>0.765199</td>\n",
       "      <td>0.018811</td>\n",
       "    </tr>\n",
       "    <tr>\n",
       "      <th>0</th>\n",
       "      <td>LinearRegression</td>\n",
       "      <td>LinearRegression()</td>\n",
       "      <td>0.738096</td>\n",
       "      <td>0.028232</td>\n",
       "    </tr>\n",
       "    <tr>\n",
       "      <th>2</th>\n",
       "      <td>SVM</td>\n",
       "      <td>SVR()</td>\n",
       "      <td>-0.098294</td>\n",
       "      <td>0.026054</td>\n",
       "    </tr>\n",
       "  </tbody>\n",
       "</table>\n",
       "</div>"
      ],
      "text/plain": [
       "               Name                                              Model  \\\n",
       "3      RandomForest  (DecisionTreeRegressor(max_features='auto', ra...   \n",
       "1               kNN                              KNeighborsRegressor()   \n",
       "0  LinearRegression                                 LinearRegression()   \n",
       "2               SVM                                              SVR()   \n",
       "\n",
       "   RCrossMean  RCrossStd  \n",
       "3    0.843695   0.027661  \n",
       "1    0.765199   0.018811  \n",
       "0    0.738096   0.028232  \n",
       "2   -0.098294   0.026054  "
      ]
     },
     "execution_count": 40,
     "metadata": {},
     "output_type": "execute_result"
    }
   ],
   "source": [
    "results=pd.DataFrame({\"Name\":names,\"Model\":models,\"RCrossMean\":meancross,\"RCrossStd\":stdcross})\n",
    "results.sort_values(\"RCrossMean\",ascending=False)"
   ]
  },
  {
   "cell_type": "markdown",
   "metadata": {
    "papermill": {
     "duration": 0.070304,
     "end_time": "2021-01-01T17:52:54.911887",
     "exception": false,
     "start_time": "2021-01-01T17:52:54.841583",
     "status": "completed"
    },
    "tags": []
   },
   "source": [
    "Although the RandomForest model has the second largest spread of cross validation scores, the RandomForest performed the best so let's explore more ensemble models:"
   ]
  },
  {
   "cell_type": "code",
   "execution_count": 41,
   "metadata": {
    "execution": {
     "iopub.execute_input": "2021-01-01T17:52:55.065532Z",
     "iopub.status.busy": "2021-01-01T17:52:55.064450Z",
     "iopub.status.idle": "2021-01-01T17:52:55.067850Z",
     "shell.execute_reply": "2021-01-01T17:52:55.067221Z"
    },
    "papermill": {
     "duration": 0.084273,
     "end_time": "2021-01-01T17:52:55.067982",
     "exception": false,
     "start_time": "2021-01-01T17:52:54.983709",
     "status": "completed"
    },
    "tags": []
   },
   "outputs": [],
   "source": [
    "from sklearn.ensemble import BaggingRegressor,GradientBoostingRegressor,AdaBoostRegressor "
   ]
  },
  {
   "cell_type": "code",
   "execution_count": 42,
   "metadata": {
    "execution": {
     "iopub.execute_input": "2021-01-01T17:52:55.214129Z",
     "iopub.status.busy": "2021-01-01T17:52:55.212993Z",
     "iopub.status.idle": "2021-01-01T17:52:55.216504Z",
     "shell.execute_reply": "2021-01-01T17:52:55.215808Z"
    },
    "papermill": {
     "duration": 0.079374,
     "end_time": "2021-01-01T17:52:55.216625",
     "exception": false,
     "start_time": "2021-01-01T17:52:55.137251",
     "status": "completed"
    },
    "tags": []
   },
   "outputs": [],
   "source": [
    "names=[\"RandomForest\",\"Bagging\",\"GradientBoost\",\"AdaBoost\"]\n",
    "models=[RandomForestRegressor(),BaggingRegressor(),GradientBoostingRegressor(),AdaBoostRegressor()]\n",
    "meancross=[]\n",
    "stdcross=[]"
   ]
  },
  {
   "cell_type": "code",
   "execution_count": 43,
   "metadata": {
    "execution": {
     "iopub.execute_input": "2021-01-01T17:52:55.410748Z",
     "iopub.status.busy": "2021-01-01T17:52:55.379148Z",
     "iopub.status.idle": "2021-01-01T17:52:58.624710Z",
     "shell.execute_reply": "2021-01-01T17:52:58.623932Z"
    },
    "papermill": {
     "duration": 3.337649,
     "end_time": "2021-01-01T17:52:58.624858",
     "exception": false,
     "start_time": "2021-01-01T17:52:55.287209",
     "status": "completed"
    },
    "tags": []
   },
   "outputs": [],
   "source": [
    "for model in models:\n",
    "    model=model\n",
    "    model.fit(x_train,y_train)\n",
    "    rcross=cross_val_score(model,x_train,y_train,cv=5)\n",
    "    meancross.append(rcross.mean())\n",
    "    stdcross.append(rcross.std())"
   ]
  },
  {
   "cell_type": "code",
   "execution_count": 44,
   "metadata": {
    "execution": {
     "iopub.execute_input": "2021-01-01T17:52:58.831416Z",
     "iopub.status.busy": "2021-01-01T17:52:58.810579Z",
     "iopub.status.idle": "2021-01-01T17:52:58.989387Z",
     "shell.execute_reply": "2021-01-01T17:52:58.988237Z"
    },
    "papermill": {
     "duration": 0.288536,
     "end_time": "2021-01-01T17:52:58.989528",
     "exception": false,
     "start_time": "2021-01-01T17:52:58.700992",
     "status": "completed"
    },
    "tags": []
   },
   "outputs": [
    {
     "data": {
      "text/html": [
       "<div>\n",
       "<style scoped>\n",
       "    .dataframe tbody tr th:only-of-type {\n",
       "        vertical-align: middle;\n",
       "    }\n",
       "\n",
       "    .dataframe tbody tr th {\n",
       "        vertical-align: top;\n",
       "    }\n",
       "\n",
       "    .dataframe thead th {\n",
       "        text-align: right;\n",
       "    }\n",
       "</style>\n",
       "<table border=\"1\" class=\"dataframe\">\n",
       "  <thead>\n",
       "    <tr style=\"text-align: right;\">\n",
       "      <th></th>\n",
       "      <th>Name</th>\n",
       "      <th>Model</th>\n",
       "      <th>RCrossMean</th>\n",
       "      <th>RCrossStd</th>\n",
       "    </tr>\n",
       "  </thead>\n",
       "  <tbody>\n",
       "    <tr>\n",
       "      <th>2</th>\n",
       "      <td>GradientBoost</td>\n",
       "      <td>([DecisionTreeRegressor(criterion='friedman_ms...</td>\n",
       "      <td>0.859443</td>\n",
       "      <td>0.026130</td>\n",
       "    </tr>\n",
       "    <tr>\n",
       "      <th>0</th>\n",
       "      <td>RandomForest</td>\n",
       "      <td>(DecisionTreeRegressor(max_features='auto', ra...</td>\n",
       "      <td>0.841420</td>\n",
       "      <td>0.027975</td>\n",
       "    </tr>\n",
       "    <tr>\n",
       "      <th>1</th>\n",
       "      <td>Bagging</td>\n",
       "      <td>(DecisionTreeRegressor(random_state=1686213370...</td>\n",
       "      <td>0.826649</td>\n",
       "      <td>0.023138</td>\n",
       "    </tr>\n",
       "    <tr>\n",
       "      <th>3</th>\n",
       "      <td>AdaBoost</td>\n",
       "      <td>(DecisionTreeRegressor(max_depth=3, random_sta...</td>\n",
       "      <td>0.812949</td>\n",
       "      <td>0.028299</td>\n",
       "    </tr>\n",
       "  </tbody>\n",
       "</table>\n",
       "</div>"
      ],
      "text/plain": [
       "            Name                                              Model  \\\n",
       "2  GradientBoost  ([DecisionTreeRegressor(criterion='friedman_ms...   \n",
       "0   RandomForest  (DecisionTreeRegressor(max_features='auto', ra...   \n",
       "1        Bagging  (DecisionTreeRegressor(random_state=1686213370...   \n",
       "3       AdaBoost  (DecisionTreeRegressor(max_depth=3, random_sta...   \n",
       "\n",
       "   RCrossMean  RCrossStd  \n",
       "2    0.859443   0.026130  \n",
       "0    0.841420   0.027975  \n",
       "1    0.826649   0.023138  \n",
       "3    0.812949   0.028299  "
      ]
     },
     "execution_count": 44,
     "metadata": {},
     "output_type": "execute_result"
    }
   ],
   "source": [
    "results=pd.DataFrame({\"Name\":names,\"Model\":models,\"RCrossMean\":meancross,\"RCrossStd\":stdcross})\n",
    "results.sort_values(\"RCrossMean\",ascending=False)"
   ]
  },
  {
   "cell_type": "markdown",
   "metadata": {
    "papermill": {
     "duration": 0.069099,
     "end_time": "2021-01-01T17:52:59.129169",
     "exception": false,
     "start_time": "2021-01-01T17:52:59.060070",
     "status": "completed"
    },
    "tags": []
   },
   "source": [
    "Out of the ensemble models, GradientBoost performed the best even though - again - it has the second largest spread of cross validation scores."
   ]
  },
  {
   "cell_type": "code",
   "execution_count": 45,
   "metadata": {
    "execution": {
     "iopub.execute_input": "2021-01-01T17:52:59.282312Z",
     "iopub.status.busy": "2021-01-01T17:52:59.280803Z",
     "iopub.status.idle": "2021-01-01T17:52:59.396203Z",
     "shell.execute_reply": "2021-01-01T17:52:59.395416Z"
    },
    "papermill": {
     "duration": 0.196058,
     "end_time": "2021-01-01T17:52:59.396335",
     "exception": false,
     "start_time": "2021-01-01T17:52:59.200277",
     "status": "completed"
    },
    "tags": []
   },
   "outputs": [],
   "source": [
    "model=GradientBoostingRegressor()\n",
    "model.fit(x_train,y_train)\n",
    "y_predict=model.predict(x_test)"
   ]
  },
  {
   "cell_type": "code",
   "execution_count": 46,
   "metadata": {
    "execution": {
     "iopub.execute_input": "2021-01-01T17:52:59.562631Z",
     "iopub.status.busy": "2021-01-01T17:52:59.555125Z",
     "iopub.status.idle": "2021-01-01T17:52:59.864959Z",
     "shell.execute_reply": "2021-01-01T17:52:59.864092Z"
    },
    "papermill": {
     "duration": 0.391667,
     "end_time": "2021-01-01T17:52:59.865114",
     "exception": false,
     "start_time": "2021-01-01T17:52:59.473447",
     "status": "completed"
    },
    "tags": []
   },
   "outputs": [
    {
     "data": {
      "text/plain": [
       "(0.0, 60000.0)"
      ]
     },
     "execution_count": 46,
     "metadata": {},
     "output_type": "execute_result"
    },
    {
     "data": {
      "image/png": "[encoded data removed]",
      "text/plain": [
       "<Figure size 432x288 with 1 Axes>"
      ]
     },
     "metadata": {
      "needs_background": "light"
     },
     "output_type": "display_data"
    }
   ],
   "source": [
    "sns.distplot(y_test,color=\"yellowgreen\",label=\"Actual values\")\n",
    "sns.distplot(y_predict,color=\"lightcoral\",label=\"Predicted values\")\n",
    "plt.legend()\n",
    "plt.xlim([0,60000])"
   ]
  },
  {
   "cell_type": "code",
   "execution_count": 47,
   "metadata": {
    "execution": {
     "iopub.execute_input": "2021-01-01T17:53:00.031320Z",
     "iopub.status.busy": "2021-01-01T17:53:00.023899Z",
     "iopub.status.idle": "2021-01-01T17:53:00.371704Z",
     "shell.execute_reply": "2021-01-01T17:53:00.370932Z"
    },
    "papermill": {
     "duration": 0.429708,
     "end_time": "2021-01-01T17:53:00.371831",
     "exception": false,
     "start_time": "2021-01-01T17:52:59.942123",
     "status": "completed"
    },
    "tags": []
   },
   "outputs": [
    {
     "data": {
      "text/plain": [
       "Text(0, 0.5, 'Predicted Price')"
      ]
     },
     "execution_count": 47,
     "metadata": {},
     "output_type": "execute_result"
    },
    {
     "data": {
      "image/png": "[encoded data removed]",
      "text/plain": [
       "<Figure size 432x288 with 2 Axes>"
      ]
     },
     "metadata": {
      "needs_background": "light"
     },
     "output_type": "display_data"
    }
   ],
   "source": [
    "f,axes=plt.subplots(2,1,sharex=True)\n",
    "sns.boxplot(y_test,color=\"yellowgreen\",whis=5,ax=axes[0])\n",
    "sns.boxplot(y_predict,color=\"lightcoral\",whis=5,ax=axes[1])\n",
    "axes[0].set_xlabel(\"\")\n",
    "plt.xlabel(\"Charges\")\n",
    "axes[0].set_ylabel(\"Actual Price\")\n",
    "axes[1].set_ylabel(\"Predicted Price\")"
   ]
  },
  {
   "cell_type": "code",
   "execution_count": 48,
   "metadata": {
    "execution": {
     "iopub.execute_input": "2021-01-01T17:53:00.523163Z",
     "iopub.status.busy": "2021-01-01T17:53:00.522193Z",
     "iopub.status.idle": "2021-01-01T17:53:00.526926Z",
     "shell.execute_reply": "2021-01-01T17:53:00.526160Z"
    },
    "papermill": {
     "duration": 0.084259,
     "end_time": "2021-01-01T17:53:00.527055",
     "exception": false,
     "start_time": "2021-01-01T17:53:00.442796",
     "status": "completed"
    },
    "tags": []
   },
   "outputs": [
    {
     "name": "stdout",
     "output_type": "stream",
     "text": [
      "The model's score is 0.86.\n"
     ]
    }
   ],
   "source": [
    "print(\"The model's score is {:.2f}.\".format(model.score(x_test,y_test)))"
   ]
  },
  {
   "cell_type": "code",
   "execution_count": 49,
   "metadata": {
    "execution": {
     "iopub.execute_input": "2021-01-01T17:53:00.691399Z",
     "iopub.status.busy": "2021-01-01T17:53:00.690593Z",
     "iopub.status.idle": "2021-01-01T17:53:00.695342Z",
     "shell.execute_reply": "2021-01-01T17:53:00.694682Z"
    },
    "papermill": {
     "duration": 0.084899,
     "end_time": "2021-01-01T17:53:00.695486",
     "exception": false,
     "start_time": "2021-01-01T17:53:00.610587",
     "status": "completed"
    },
    "tags": []
   },
   "outputs": [
    {
     "data": {
      "text/plain": [
       "Ttest_indResult(statistic=-0.12839025533826162, pvalue=0.8978694110724472)"
      ]
     },
     "execution_count": 49,
     "metadata": {},
     "output_type": "execute_result"
    }
   ],
   "source": [
    "a=y_test\n",
    "b=y_predict\n",
    "\n",
    "stats.ttest_ind(a,b)"
   ]
  },
  {
   "cell_type": "code",
   "execution_count": 50,
   "metadata": {
    "execution": {
     "iopub.execute_input": "2021-01-01T17:53:00.852867Z",
     "iopub.status.busy": "2021-01-01T17:53:00.852088Z",
     "iopub.status.idle": "2021-01-01T17:53:00.872403Z",
     "shell.execute_reply": "2021-01-01T17:53:00.871684Z"
    },
    "papermill": {
     "duration": 0.103607,
     "end_time": "2021-01-01T17:53:00.872535",
     "exception": false,
     "start_time": "2021-01-01T17:53:00.768928",
     "status": "completed"
    },
    "tags": []
   },
   "outputs": [
    {
     "data": {
      "text/html": [
       "<div>\n",
       "<style scoped>\n",
       "    .dataframe tbody tr th:only-of-type {\n",
       "        vertical-align: middle;\n",
       "    }\n",
       "\n",
       "    .dataframe tbody tr th {\n",
       "        vertical-align: top;\n",
       "    }\n",
       "\n",
       "    .dataframe thead th {\n",
       "        text-align: right;\n",
       "    }\n",
       "</style>\n",
       "<table border=\"1\" class=\"dataframe\">\n",
       "  <thead>\n",
       "    <tr style=\"text-align: right;\">\n",
       "      <th></th>\n",
       "      <th>Min</th>\n",
       "      <th>Max</th>\n",
       "      <th>Mean</th>\n",
       "      <th>Standard Deviation</th>\n",
       "      <th>Skew</th>\n",
       "      <th>Kurtosis</th>\n",
       "    </tr>\n",
       "  </thead>\n",
       "  <tbody>\n",
       "    <tr>\n",
       "      <th>Actual</th>\n",
       "      <td>1137.469700</td>\n",
       "      <td>51194.559140</td>\n",
       "      <td>13177.182438</td>\n",
       "      <td>11975.982235</td>\n",
       "      <td>1.453435</td>\n",
       "      <td>1.221367</td>\n",
       "    </tr>\n",
       "    <tr>\n",
       "      <th>Predicted</th>\n",
       "      <td>458.333761</td>\n",
       "      <td>50188.098947</td>\n",
       "      <td>13277.399534</td>\n",
       "      <td>11219.590463</td>\n",
       "      <td>1.739549</td>\n",
       "      <td>2.246053</td>\n",
       "    </tr>\n",
       "  </tbody>\n",
       "</table>\n",
       "</div>"
      ],
      "text/plain": [
       "                   Min           Max          Mean  Standard Deviation  \\\n",
       "Actual     1137.469700  51194.559140  13177.182438        11975.982235   \n",
       "Predicted   458.333761  50188.098947  13277.399534        11219.590463   \n",
       "\n",
       "               Skew  Kurtosis  \n",
       "Actual     1.453435  1.221367  \n",
       "Predicted  1.739549  2.246053  "
      ]
     },
     "execution_count": 50,
     "metadata": {},
     "output_type": "execute_result"
    }
   ],
   "source": [
    "results=pd.DataFrame({\"Actual\":y_test,\"Predicted\":y_predict})\n",
    "\n",
    "smin=[stats.tmin(results[i]) for i in results.columns]\n",
    "smax=[stats.tmax(results[i]) for i in results.columns]\n",
    "smean=[stats.tmean(results[i]) for i in results.columns]\n",
    "sstd=[stats.tstd(results[i]) for i in results.columns]\n",
    "sskew=[stats.skew(results[i]) for i in results.columns]\n",
    "skurtosis=[stats.kurtosis(results[i]) for i in results.columns]\n",
    "\n",
    "stable=pd.DataFrame({\"Min\":smin,\"Max\":smax,\"Mean\":smean,\"Standard Deviation\":sstd,\"Skew\":sskew,\"Kurtosis\":skurtosis},index=results.columns)\n",
    "stable"
   ]
  },
  {
   "cell_type": "markdown",
   "metadata": {
    "papermill": {
     "duration": 0.077606,
     "end_time": "2021-01-01T17:53:01.026313",
     "exception": false,
     "start_time": "2021-01-01T17:53:00.948707",
     "status": "completed"
    },
    "tags": []
   },
   "source": [
    "The base model gave an accuracy score of almost 86% and can be improved by obtaining more data, conducting further feature selection (as we utilised all the features) and perfoming parameter tuning (we have only used the default parameters). Nevertheless the actual and predicted resulare not statistically different as while the minimum value is rather off, the maximum value, mean, standard deviation, skew and kurtosis of the actual and predicted values are still similar."
   ]
  },
  {
   "cell_type": "markdown",
   "metadata": {
    "papermill": {
     "duration": 0.074056,
     "end_time": "2021-01-01T17:53:01.173337",
     "exception": false,
     "start_time": "2021-01-01T17:53:01.099281",
     "status": "completed"
    },
    "tags": []
   },
   "source": [
    "Try to predict your medical costs by inputting the relevant values in place for the '0's below:"
   ]
  },
  {
   "cell_type": "code",
   "execution_count": 51,
   "metadata": {
    "execution": {
     "iopub.execute_input": "2021-01-01T17:53:01.332058Z",
     "iopub.status.busy": "2021-01-01T17:53:01.331339Z",
     "iopub.status.idle": "2021-01-01T17:53:01.335094Z",
     "shell.execute_reply": "2021-01-01T17:53:01.334577Z"
    },
    "papermill": {
     "duration": 0.086073,
     "end_time": "2021-01-01T17:53:01.335222",
     "exception": false,
     "start_time": "2021-01-01T17:53:01.249149",
     "status": "completed"
    },
    "tags": []
   },
   "outputs": [],
   "source": [
    "age=[0] # your age as a whole number\n",
    "sex=[0] # 0 if you are a female OR 1 if you are a male\n",
    "bmi=[0] # your calculated BMI as a whole or decimal number\n",
    "children=[0] # your number of children/dependents as a whole number\n",
    "smoker=[0] # 0 if you do not smoke OR 1 if you do smoke\n",
    "northeast=[0] # 0 if you live in the northwest/southeast/southwest OR 1 if you live in the northeast\n",
    "northwest=[0] # 0 if you live in the northeast/southeast/southwest OR 1 if you live in the northwest\n",
    "southeast=[0] # 0 if you live in the northeast/northwest/southwest OR 1 if you live in the southeast\n",
    "southwest=[0] # 0 if you live in the northeast/northwest/southeast OR 1 if you live in the southwest"
   ]
  },
  {
   "cell_type": "code",
   "execution_count": 52,
   "metadata": {
    "execution": {
     "iopub.execute_input": "2021-01-01T17:53:01.498042Z",
     "iopub.status.busy": "2021-01-01T17:53:01.497070Z",
     "iopub.status.idle": "2021-01-01T17:53:01.501818Z",
     "shell.execute_reply": "2021-01-01T17:53:01.501068Z"
    },
    "papermill": {
     "duration": 0.093445,
     "end_time": "2021-01-01T17:53:01.501947",
     "exception": false,
     "start_time": "2021-01-01T17:53:01.408502",
     "status": "completed"
    },
    "tags": []
   },
   "outputs": [
    {
     "name": "stdout",
     "output_type": "stream",
     "text": [
      "Your predicted medical costs is USD x.\n"
     ]
    }
   ],
   "source": [
    "if (age==[0])&(sex==[0])&(bmi==[0])&(children==[0])&(smoker==[0])&(northeast==[0])&(northwest==[0])&(southeast==[0])&(southwest==[0]):\n",
    "    print(\"Your predicted medical costs is USD x.\")\n",
    "else:\n",
    "    your_data=pd.DataFrame({\"Age\":age,\"Sex\":sex,\"BMI\":bmi,\"Children\":children,\"Smoker\":smoker,\"northeast\":northeast,\"northwest\":northwest,\"southeast\":southeast,\"southwest\":southwest})\n",
    "    your_data=scaler.transform(your_data)\n",
    "    your_costs=model.predict(your_data)\n",
    "    print(\"Your predicted medical costs is USD {:.2f}.\".format(your_costs[0]))"
   ]
  },
  {
   "cell_type": "markdown",
   "metadata": {
    "papermill": {
     "duration": 0.080785,
     "end_time": "2021-01-01T17:53:01.662013",
     "exception": false,
     "start_time": "2021-01-01T17:53:01.581228",
     "status": "completed"
    },
    "tags": []
   },
   "source": [
    "Does this value seem right to you?"
   ]
  }
 ],
 "metadata": {
  "kernelspec": {
   "display_name": "Python 3",
   "language": "python",
   "name": "python3"
  },
  "language_info": {
   "codemirror_mode": {
    "name": "ipython",
    "version": 3
   },
   "file_extension": ".py",
   "mimetype": "text/x-python",
   "name": "python",
   "nbconvert_exporter": "python",
   "pygments_lexer": "ipython3",
   "version": "3.7.6"
  },
  "papermill": {
   "duration": 27.556368,
   "end_time": "2021-01-01T17:53:01.848366",
   "environment_variables": {},
   "exception": null,
   "input_path": "__notebook__.ipynb",
   "output_path": "__notebook__.ipynb",
   "parameters": {},
   "start_time": "2021-01-01T17:52:34.291998",
   "version": "2.1.0"
  }
 },
 "nbformat": 4,
 "nbformat_minor": 4
}
